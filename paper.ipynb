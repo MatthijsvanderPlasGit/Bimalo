{
 "cells": [
  {
   "cell_type": "markdown",
   "metadata": {},
   "source": [
    "# -*- coding: utf-8 -*-\n",
    "## Created on Tue Oct 12 09:20:36 2021\n",
    "\n",
    "@author: Lotte\n",
    "\n",
    "$$ a = 10 $$\n",
    "\n",
    "1. iwrt\n",
    "1. dfs\n",
    "   - sdfsfd\n",
    "   - sdf\n",
    "     - sdfs\n",
    "     "
   ]
  },
  {
   "cell_type": "code",
   "execution_count": 13,
   "metadata": {},
   "outputs": [],
   "source": [
    "# -*- coding: utf-8 -*-\n",
    "\"\"\"\n",
    "Created on Tue Oct 12 09:20:36 2021\n",
    "\n",
    "@author: Lotte\n",
    "\"\"\"\n",
    "# import  modules\n",
    "import pandas as pd\n",
    "import numpy as np\n",
    "from sklearn import preprocessing\n",
    "from sklearn.model_selection import train_test_split"
   ]
  },
  {
   "cell_type": "code",
   "execution_count": 2,
   "metadata": {},
   "outputs": [
    {
     "name": "stdout",
     "output_type": "stream",
     "text": [
      "    age         workclass  fnlwgt     education  education_num  \\\n",
      "10   37           Private  280464  Some-college             10   \n",
      "11   30         State-gov  141297     Bachelors             13   \n",
      "12   23           Private  122272     Bachelors             13   \n",
      "13   32           Private  205019    Assoc-acdm             12   \n",
      "14   40           Private  121772     Assoc-voc             11   \n",
      "15   34           Private  245487       7th-8th              4   \n",
      "16   25  Self-emp-not-inc  176756       HS-grad              9   \n",
      "17   32           Private  186824       HS-grad              9   \n",
      "18   38           Private   28887          11th              7   \n",
      "19   43  Self-emp-not-inc  292175       Masters             14   \n",
      "20   40           Private  193524     Doctorate             16   \n",
      "21   54           Private  302146       HS-grad              9   \n",
      "22   35       Federal-gov   76845           9th              5   \n",
      "23   43           Private  117037          11th              7   \n",
      "\n",
      "        marital_status         occupation   relationship                race  \\\n",
      "10  Married-civ-spouse    Exec-managerial        Husband               Black   \n",
      "11  Married-civ-spouse     Prof-specialty        Husband  Asian-Pac-Islander   \n",
      "12       Never-married       Adm-clerical      Own-child               White   \n",
      "13       Never-married              Sales  Not-in-family               Black   \n",
      "14  Married-civ-spouse       Craft-repair        Husband  Asian-Pac-Islander   \n",
      "15  Married-civ-spouse   Transport-moving        Husband  Amer-Indian-Eskimo   \n",
      "16       Never-married    Farming-fishing      Own-child               White   \n",
      "17       Never-married  Machine-op-inspct      Unmarried               White   \n",
      "18  Married-civ-spouse              Sales        Husband               White   \n",
      "19            Divorced    Exec-managerial      Unmarried               White   \n",
      "20  Married-civ-spouse     Prof-specialty        Husband               White   \n",
      "21           Separated      Other-service      Unmarried               Black   \n",
      "22  Married-civ-spouse    Farming-fishing        Husband               Black   \n",
      "23  Married-civ-spouse   Transport-moving        Husband               White   \n",
      "\n",
      "       sex  capital_gain  capital_loss  hours_per_week native_country salary  \n",
      "10    Male             0             0              80  United-States   >50K  \n",
      "11    Male             0             0              40          India   >50K  \n",
      "12  Female             0             0              30  United-States  <=50K  \n",
      "13    Male             0             0              50  United-States  <=50K  \n",
      "14    Male             0             0              40            NaN   >50K  \n",
      "15    Male             0             0              45         Mexico  <=50K  \n",
      "16    Male             0             0              35  United-States  <=50K  \n",
      "17    Male             0             0              40  United-States  <=50K  \n",
      "18    Male             0             0              50  United-States  <=50K  \n",
      "19  Female             0             0              45  United-States   >50K  \n",
      "20    Male             0             0              60  United-States   >50K  \n",
      "21  Female             0             0              20  United-States  <=50K  \n",
      "22    Male             0             0              40  United-States  <=50K  \n",
      "23    Male             0          2042              40  United-States  <=50K  \n"
     ]
    }
   ],
   "source": [
    "\n",
    "# import dataset and replace unknown values wit NaN\n",
    "# Using ,\\s as delimeter because all the values have a space character in fron\n",
    "# of them\n",
    "file_name = \"adult.data.csv\"\n",
    "data = pd.read_csv(file_name, na_values=[\"?\"], skipinitialspace=True)\n",
    "print(data[10:24])"
   ]
  },
  {
   "cell_type": "code",
   "execution_count": 5,
   "metadata": {},
   "outputs": [
    {
     "name": "stdout",
     "output_type": "stream",
     "text": [
      "Male      21790\n",
      "Female    10771\n",
      "Name: sex, dtype: int64\n",
      "sex     salary\n",
      "Female  <=50K      9592\n",
      "        >50K       1179\n",
      "Male    <=50K     15128\n",
      "        >50K       6662\n",
      "Name: salary, dtype: int64\n"
     ]
    }
   ],
   "source": [
    "# column 9 is gender \n",
    "# get amount of female and male who earns <=50k or >50k\n",
    "gender = data['sex'].value_counts()\n",
    "selected = data.groupby('sex')['salary'].value_counts()\n",
    "print(gender)\n",
    "print(selected)"
   ]
  },
  {
   "cell_type": "code",
   "execution_count": 9,
   "metadata": {},
   "outputs": [],
   "source": [
    "# define variable\n",
    "male = gender[0]\n",
    "male_less = selected[2]\n",
    "male_more = selected[3]\n",
    "female = gender[1]\n",
    "female_less = selected[0]\n",
    "female_more = selected[1"
   ]
  },
  {
   "cell_type": "code",
   "execution_count": 10,
   "metadata": {},
   "outputs": [
    {
     "name": "stdout",
     "output_type": "stream",
     "text": [
      "Discrimination = 0.19627598779361352\n",
      "# of modifications = 1414.7597432511286\n"
     ]
    }
   ],
   "source": [
    "# Calculate the discrimination and the number of required modifications\n",
    "Disc = (male_more/male) - (female_more/female)\n",
    "print('Discrimination =', Disc)\n",
    "\n",
    "M = ((female*male_more)-(male*female_more))/(female+male)\n",
    "print('# of modifications =', M)"
   ]
  },
  {
   "cell_type": "code",
   "execution_count": 12,
   "metadata": {},
   "outputs": [
    {
     "name": "stdout",
     "output_type": "stream",
     "text": [
      "[1 1 1 ... 0 1 0]\n",
      "[0 0 0 ... 0 0 1]\n"
     ]
    }
   ],
   "source": [
    "# creating labelEncoder\n",
    "le = preprocessing.LabelEncoder()\n",
    "\n",
    "# converting string labels into numbers\n",
    "genders =le.fit_transform(data['sex'])\n",
    "salaries = le.fit_transform(data['salary'])"
   ]
  },
  {
   "cell_type": "code",
   "execution_count": null,
   "metadata": {},
   "outputs": [],
   "source": []
  }
 ],
 "metadata": {
  "interpreter": {
   "hash": "2731b128ff258f582b9ea4944399f3ae030a04f5ef13cd4b04420f069b3304ff"
  },
  "kernelspec": {
   "display_name": "Python 3.7.4 64-bit ('base': conda)",
   "name": "python3"
  },
  "language_info": {
   "codemirror_mode": {
    "name": "ipython",
    "version": 3
   },
   "file_extension": ".py",
   "mimetype": "text/x-python",
   "name": "python",
   "nbconvert_exporter": "python",
   "pygments_lexer": "ipython3",
   "version": "3.7.4"
  },
  "orig_nbformat": 4
 },
 "nbformat": 4,
 "nbformat_minor": 2
}
